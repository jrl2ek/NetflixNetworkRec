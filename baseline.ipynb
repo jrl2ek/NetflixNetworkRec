{
 "cells": [
  {
   "cell_type": "code",
   "execution_count": 1,
   "metadata": {},
   "outputs": [],
   "source": [
    "import os\n",
    "import numpy as np\n",
    "import pandas as pd\n",
    "import networkx as nx\n",
    "import re"
   ]
  },
  {
   "cell_type": "code",
   "execution_count": 2,
   "metadata": {},
   "outputs": [
    {
     "name": "stdout",
     "output_type": "stream",
     "text": [
      "2500\n",
      "0.0\n",
      "0.4\n",
      "0.8\n"
     ]
    }
   ],
   "source": [
    "# Initialize empty dictionary of ratings\n",
    "netflix_ratings = {'movieID':[], 'userID':[], 'rating':[]}\n",
    "\n",
    "ratings_files = os.listdir('training_set/')[:2500]\n",
    "print(len(ratings_files))\n",
    "for x,rating_file in enumerate(ratings_files):\n",
    "    if x%1000==0:\n",
    "        print(x/len(ratings_files))\n",
    "    with open('training_set/'+rating_file) as f:\n",
    "        for i,line in enumerate(f):\n",
    "            if i == 0:\n",
    "                # Get the movie ID\n",
    "                mID = re.findall('([0-9]*):',line)[0]\n",
    "            # If not the first line, then record the rating.\n",
    "            else:\n",
    "                row = line.split(',')\n",
    "                netflix_ratings['movieID'].append(mID)\n",
    "                netflix_ratings['userID'].append(row[0])\n",
    "                netflix_ratings['rating'].append(row[1])\n",
    "                # Ignore the date information for now (may use later)"
   ]
  },
  {
   "cell_type": "code",
   "execution_count": 3,
   "metadata": {},
   "outputs": [],
   "source": [
    "df = pd.DataFrame(netflix_ratings)"
   ]
  },
  {
   "cell_type": "code",
   "execution_count": 4,
   "metadata": {},
   "outputs": [],
   "source": [
    "# Remove the netflix_ratings dict from memory (this just makes it a very very small None object)\n",
    "netflix_ratings = None"
   ]
  },
  {
   "cell_type": "code",
   "execution_count": 5,
   "metadata": {},
   "outputs": [
    {
     "data": {
      "text/html": [
       "<div>\n",
       "<style scoped>\n",
       "    .dataframe tbody tr th:only-of-type {\n",
       "        vertical-align: middle;\n",
       "    }\n",
       "\n",
       "    .dataframe tbody tr th {\n",
       "        vertical-align: top;\n",
       "    }\n",
       "\n",
       "    .dataframe thead th {\n",
       "        text-align: right;\n",
       "    }\n",
       "</style>\n",
       "<table border=\"1\" class=\"dataframe\">\n",
       "  <thead>\n",
       "    <tr style=\"text-align: right;\">\n",
       "      <th></th>\n",
       "      <th>movieID</th>\n",
       "      <th>userID</th>\n",
       "      <th>rating</th>\n",
       "    </tr>\n",
       "  </thead>\n",
       "  <tbody>\n",
       "    <tr>\n",
       "      <th>0</th>\n",
       "      <td>373</td>\n",
       "      <td>643460</td>\n",
       "      <td>4</td>\n",
       "    </tr>\n",
       "    <tr>\n",
       "      <th>1</th>\n",
       "      <td>373</td>\n",
       "      <td>349399</td>\n",
       "      <td>5</td>\n",
       "    </tr>\n",
       "    <tr>\n",
       "      <th>2</th>\n",
       "      <td>373</td>\n",
       "      <td>1315469</td>\n",
       "      <td>2</td>\n",
       "    </tr>\n",
       "    <tr>\n",
       "      <th>3</th>\n",
       "      <td>373</td>\n",
       "      <td>1022903</td>\n",
       "      <td>3</td>\n",
       "    </tr>\n",
       "    <tr>\n",
       "      <th>4</th>\n",
       "      <td>373</td>\n",
       "      <td>302715</td>\n",
       "      <td>3</td>\n",
       "    </tr>\n",
       "  </tbody>\n",
       "</table>\n",
       "</div>"
      ],
      "text/plain": [
       "  movieID   userID rating\n",
       "0     373   643460      4\n",
       "1     373   349399      5\n",
       "2     373  1315469      2\n",
       "3     373  1022903      3\n",
       "4     373   302715      3"
      ]
     },
     "execution_count": 5,
     "metadata": {},
     "output_type": "execute_result"
    }
   ],
   "source": [
    "df.head()"
   ]
  },
  {
   "cell_type": "markdown",
   "metadata": {},
   "source": [
    "### Building the baseline:\n",
    "First, set up the dataset object. Then call the recommender in a cross-validate system."
   ]
  },
  {
   "cell_type": "code",
   "execution_count": 6,
   "metadata": {},
   "outputs": [],
   "source": [
    "# Build a very basic RS, using just a standard normal distribution about the \n",
    "# mean of the ratings in the dataset.\n",
    "from surprise import NormalPredictor\n",
    "\n",
    "# Baseline with global mean, user bias, and item bias only.\n",
    "from surprise.prediction_algorithms.baseline_only import BaselineOnly\n",
    "\n",
    "from surprise import Dataset\n",
    "from surprise import Reader\n",
    "from surprise.model_selection import cross_validate\n",
    "\n",
    "# A reader is still needed but only the rating_scale param is requiered.\n",
    "reader = Reader(rating_scale=(1, 5))\n",
    "\n",
    "# Create the surprise Dataset object:\n",
    "data = Dataset.load_from_df(df[['userID', 'movieID', 'rating']], reader)"
   ]
  },
  {
   "cell_type": "code",
   "execution_count": 7,
   "metadata": {},
   "outputs": [],
   "source": [
    "# Get rid of the dataframe.\n",
    "df = None\n",
    "# Pickle the dataset so we have it later. This takes too long and crashes the computer.\n",
    "# import pickle\n",
    "# pickle.dump(data, open( \"dataset.p\", \"wb\" ))"
   ]
  },
  {
   "cell_type": "code",
   "execution_count": 8,
   "metadata": {},
   "outputs": [
    {
     "name": "stdout",
     "output_type": "stream",
     "text": [
      "Estimating biases using als...\n",
      "Estimating biases using als...\n",
      "Estimating biases using als...\n",
      "Evaluating RMSE, MAE of algorithm BaselineOnly on 3 split(s).\n",
      "\n",
      "                  Fold 1  Fold 2  Fold 3  Mean    Std     \n",
      "RMSE (testset)    0.9369  0.9375  0.9373  0.9372  0.0003  \n",
      "MAE (testset)     0.7406  0.7408  0.7407  0.7407  0.0001  \n",
      "Fit time          49.73   64.11   65.55   59.80   7.14    \n",
      "Test time         215.51  177.91  235.81  209.74  23.99   \n"
     ]
    },
    {
     "data": {
      "text/plain": [
       "{'test_rmse': array([0.9368745 , 0.93747759, 0.93727878]),\n",
       " 'test_mae': array([0.74057394, 0.74075342, 0.74073485]),\n",
       " 'fit_time': (49.727607011795044, 64.11378788948059, 65.54763293266296),\n",
       " 'test_time': (215.51144981384277, 177.90801525115967, 235.81061100959778)}"
      ]
     },
     "execution_count": 8,
     "metadata": {},
     "output_type": "execute_result"
    }
   ],
   "source": [
    "# Test the baseline validator\n",
    "cross_validate(BaselineOnly(), data, cv=3, verbose=True)"
   ]
  },
  {
   "cell_type": "code",
   "execution_count": null,
   "metadata": {},
   "outputs": [],
   "source": []
  }
 ],
 "metadata": {
  "kernelspec": {
   "display_name": "Python 3",
   "language": "python",
   "name": "python3"
  },
  "language_info": {
   "codemirror_mode": {
    "name": "ipython",
    "version": 3
   },
   "file_extension": ".py",
   "mimetype": "text/x-python",
   "name": "python",
   "nbconvert_exporter": "python",
   "pygments_lexer": "ipython3",
   "version": "3.6.9"
  }
 },
 "nbformat": 4,
 "nbformat_minor": 4
}
