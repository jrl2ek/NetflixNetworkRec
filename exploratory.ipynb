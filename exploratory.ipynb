{
 "cells": [
  {
   "cell_type": "code",
   "execution_count": 33,
   "metadata": {},
   "outputs": [],
   "source": [
    "import os\n",
    "import numpy as np\n",
    "import pandas as pd\n",
    "import networkx as nx\n",
    "import re\n",
    "import matplotlib.pyplot as plt"
   ]
  },
  {
   "cell_type": "markdown",
   "metadata": {},
   "source": [
    "#### Determine which movies have the most ratings, and select top_n of them for a subset of data."
   ]
  },
  {
   "cell_type": "code",
   "execution_count": 74,
   "metadata": {},
   "outputs": [
    {
     "name": "stdout",
     "output_type": "stream",
     "text": [
      "7774\n"
     ]
    }
   ],
   "source": [
    "# Get the list of only movies:\n",
    "MoviesOnly_df = pd.read_csv('MoviesOnly.csv')\n",
    "MoviesOnly = list(MoviesOnly_df.NetflixIds)\n",
    "#print(f\"mv_{MoviesOnly[0]:07}.txt\")\n",
    "MoviesOnly = [f\"mv_{i:07}.txt\" for i in MoviesOnly]\n",
    "print(len(MoviesOnly))"
   ]
  },
  {
   "cell_type": "code",
   "execution_count": 75,
   "metadata": {},
   "outputs": [
    {
     "name": "stdout",
     "output_type": "stream",
     "text": [
      "17770\n",
      "0.056274620146314014\n",
      "0.11254924029262803\n",
      "0.7315700619020822\n",
      "0.9566685424873382\n"
     ]
    }
   ],
   "source": [
    "# Initialize empty dictionary of ratings\n",
    "netflix_ratings = {'movieID':[], 'num_ratings':[]}\n",
    "\n",
    "ratings_files = os.listdir('training_set/')[:]\n",
    "print(len(ratings_files))\n",
    "for x,rating_file in enumerate(ratings_files):\n",
    "    if rating_file in MoviesOnly:\n",
    "        if x%1000==0:\n",
    "            print(x/len(ratings_files))\n",
    "        with open('training_set/'+rating_file) as f:\n",
    "            for i,line in enumerate(f):\n",
    "                if i == 0:\n",
    "                    # Get the movie ID\n",
    "                    mID = re.findall('([0-9]*):',line)[0]\n",
    "\n",
    "            netflix_ratings['movieID'].append(mID)\n",
    "            netflix_ratings['num_ratings'].append(i+1)"
   ]
  },
  {
   "cell_type": "code",
   "execution_count": 76,
   "metadata": {},
   "outputs": [
    {
     "data": {
      "text/plain": [
       "7703"
      ]
     },
     "execution_count": 76,
     "metadata": {},
     "output_type": "execute_result"
    }
   ],
   "source": [
    "len(netflix_ratings['num_ratings'])"
   ]
  },
  {
   "cell_type": "code",
   "execution_count": 77,
   "metadata": {},
   "outputs": [],
   "source": [
    "df = pd.DataFrame(netflix_ratings)"
   ]
  },
  {
   "cell_type": "code",
   "execution_count": 78,
   "metadata": {},
   "outputs": [
    {
     "data": {
      "text/plain": [
       "<matplotlib.axes._subplots.AxesSubplot at 0xa2fd2a9b0>"
      ]
     },
     "execution_count": 78,
     "metadata": {},
     "output_type": "execute_result"
    },
    {
     "data": {
      "image/png": "[encoded data removed]",
      "text/plain": [
       "<Figure size 504x360 with 1 Axes>"
      ]
     },
     "metadata": {
      "needs_background": "light"
     },
     "output_type": "display_data"
    }
   ],
   "source": [
    "fig = plt.figure(figsize=[7,5])\n",
    "ax = fig.add_subplot(111)\n",
    "\n",
    "df.num_ratings.hist(log=True)"
   ]
  },
  {
   "cell_type": "code",
   "execution_count": 82,
   "metadata": {},
   "outputs": [],
   "source": [
    "top_n = 2500\n",
    "df = df.sort_values(by='num_ratings',ascending=False)\n",
    "highest_count_of_ratings = df.iloc[:top_n,:]"
   ]
  },
  {
   "cell_type": "code",
   "execution_count": 84,
   "metadata": {},
   "outputs": [],
   "source": [
    "highest_count_of_ratings.to_csv(\"subset.csv\")"
   ]
  },
  {
   "cell_type": "code",
   "execution_count": null,
   "metadata": {},
   "outputs": [],
   "source": []
  }
 ],
 "metadata": {
  "kernelspec": {
   "display_name": "Python 3",
   "language": "python",
   "name": "python3"
  },
  "language_info": {
   "codemirror_mode": {
    "name": "ipython",
    "version": 3
   },
   "file_extension": ".py",
   "mimetype": "text/x-python",
   "name": "python",
   "nbconvert_exporter": "python",
   "pygments_lexer": "ipython3",
   "version": "3.6.9"
  }
 },
 "nbformat": 4,
 "nbformat_minor": 4
}
