{
 "cells": [
  {
   "cell_type": "code",
   "execution_count": null,
   "metadata": {},
   "outputs": [],
   "source": [
    "import numpy as np\n",
    "import matplotlib.pyplot as plt\n",
    "%matplotlib inline\n",
    "import pandas as pd\n",
    "import networkx as nx\n",
    "import utility as util"
   ]
  },
  {
   "cell_type": "code",
   "execution_count": null,
   "metadata": {},
   "outputs": [],
   "source": [
    "class Netflix_Ratings(object):\n",
    "    \n",
    "    def __init__(self,ratings_dir,film_title_csv):\n",
    "        import pandas as pd\n",
    "        import networkx as nx\n",
    "        self.ratings_dir = ratings_dir\n",
    "        self.film_title_csv = film_title_csv\n",
    "        \n",
    "        NetflixTitle = pd.read_excel(self.film_title_csv)\n",
    "        NetflixTitle['Name2'] = NetflixTitle['Name2'].fillna('')\n",
    "        NetflixTitle['Name3'] = NetflixTitle['Name3'].fillna('')\n",
    "        NetflixTitle['Unnamed: 5'] = NetflixTitle['Unnamed: 5'].fillna('')\n",
    "        NetflixTitle['Name'] = NetflixTitle.apply(self.combine, axis=1)\n",
    "        self.names_df = NetflixTitle\n",
    "        \n",
    "        self.ID_to_name, self.name_to_ID = self.create_mappings(self.names_df)\n",
    "        \n",
    "    def combine(self,row):\n",
    "        if row['Name2'] != '':\n",
    "            row['Name'] = str(row['Name']) + ', ' + str(row['Name2'])\n",
    "        if row['Name3'] != '':\n",
    "            row['Name'] = row['Name'] + ', ' + str(row['Name3'])\n",
    "        if row['Unnamed: 5'] != '':\n",
    "            row['Unnamed: 5'] = row['Name'] + ', ' + str(row['Unnamed: 5'])\n",
    "        return row['Name']\n",
    "    \n",
    "    def create_mappings(self,names_df):\n",
    "        IDs = list(names_df['ID'])\n",
    "        names = list(names_df['Name'].str.lower())\n",
    "        ID_to_name = dict(zip(IDs,names))\n",
    "        name_to_ID = dict(zip(names,IDs))\n",
    "        return ID_to_name, name_to_ID\n",
    "    \n",
    "    def create_utility_matrix(self,G):\n",
    "        '''\n",
    "        Given a network G, this method will construct the utility matrix for the movies present in \n",
    "        the nodeset of G that are also within the ratings listed here.\n",
    "        '''\n",
    "        import csv\n",
    "        import numpy as np\n",
    "        import scipy.sparse as ss\n",
    "        \n",
    "        titles_in_matrix = [i for i in G.nodes()]\n",
    "        ids_in_matrix = [self.name_to_ID[x] for x in titles_in_matrix]\n",
    "        \n",
    "        # Loop through the files for each movie, compile the ratings for each movie, and \n",
    "        # get all of the users who rated each movie. \n",
    "        ratings_dict = {}\n",
    "        users = []\n",
    "        for title in titles_in_matrix[:]: #REMOVE THROTTLE\n",
    "            # Get the Netflix id of this movie, and the title of the review file.\n",
    "            filename = f\"{self.ratings_dir}mv_{self.name_to_ID[title]:07}.txt\"\n",
    "            # Build a nested dictionary, where the outer key is the title of the movie,\n",
    "            # the inner key is the numeric identifier of the user, and the value is the\n",
    "            # rating.\n",
    "            ratings = {}\n",
    "            with open(filename,'r') as f:\n",
    "                reader = csv.reader(f)\n",
    "                for i,row in enumerate(reader):\n",
    "                    if i == 0:\n",
    "                        continue\n",
    "                    else:\n",
    "                        users.append(row[0])\n",
    "                        ratings[row[0]] = row[1]\n",
    "            ratings_dict[title] = ratings\n",
    "        users = list(set(users))\n",
    "        \n",
    "        # Make mappings for the movie title and user to index\n",
    "        title_to_index = dict(zip(titles_in_matrix,range(len(titles_in_matrix))))\n",
    "        index_to_title = dict(zip(range(len(titles_in_matrix)),titles_in_matrix))\n",
    "        user_to_index = dict(zip(users,range(len(users))))\n",
    "        index_to_user = dict(zip(range(len(users)),users))\n",
    "\n",
    "        # Build the utility matrix. [j,i] where j is user and i is movie.\n",
    "        um = np.full((len(users),len(titles_in_matrix)),0)\n",
    "        um = ss.lil_matrix(um)\n",
    "        for title in ratings_dict:\n",
    "            i = title_to_index[title]\n",
    "            for user in ratings_dict[title]:\n",
    "                j = user_to_index[user]\n",
    "                um[j,i] = ratings_dict[title][user]\n",
    "        um = ss.csr_matrix(um)\n",
    "        \n",
    "        self.um = um\n",
    "        self.index_to_title = index_to_title\n",
    "        self.index_to_user = index_to_user\n",
    "        self.title_to_index = index_to_title\n",
    "        self.user_to_index = user_to_index\n",
    "\n",
    "    \n",
    "G = util.parse_nodes_edge_file('DirectorG.net')\n",
    "# create_utility_matrix(G)\n",
    "ratings = Netflix_Ratings('training_set/','Netflix-Dataset/movie_titles_test.xls')\n",
    "ratings.create_utility_matrix(G)"
   ]
  },
  {
   "cell_type": "code",
   "execution_count": null,
   "metadata": {},
   "outputs": [],
   "source": [
    "# Other methods: Build edgelists. In fact, just write out a file for each user? "
   ]
  },
  {
   "cell_type": "code",
   "execution_count": 2,
   "metadata": {},
   "outputs": [
    {
     "name": "stdout",
     "output_type": "stream",
     "text": [
      "yep\n"
     ]
    }
   ],
   "source": [
    "a = 9\n",
    "if type(a) is int:\n",
    "    print('yep')"
   ]
  },
  {
   "cell_type": "code",
   "execution_count": null,
   "metadata": {},
   "outputs": [],
   "source": []
  }
 ],
 "metadata": {
  "kernelspec": {
   "display_name": "Python 3",
   "language": "python",
   "name": "python3"
  },
  "language_info": {
   "codemirror_mode": {
    "name": "ipython",
    "version": 3
   },
   "file_extension": ".py",
   "mimetype": "text/x-python",
   "name": "python",
   "nbconvert_exporter": "python",
   "pygments_lexer": "ipython3",
   "version": "3.6.9"
  }
 },
 "nbformat": 4,
 "nbformat_minor": 4
}
